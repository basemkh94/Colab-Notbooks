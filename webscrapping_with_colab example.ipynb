{
  "nbformat": 4,
  "nbformat_minor": 0,
  "metadata": {
    "colab": {
      "name": "TRrR.ipynb",
      "provenance": [],
      "collapsed_sections": [],
      "include_colab_link": true
    },
    "kernelspec": {
      "name": "python3",
      "display_name": "Python 3"
    }
  },
  "cells": [
    {
      "cell_type": "markdown",
      "metadata": {
        "id": "view-in-github",
        "colab_type": "text"
      },
      "source": [
        "<a href=\"https://colab.research.google.com/github/basemkh94/Colab-Notbooks/blob/master/webscrapping_with_colab%20example.ipynb\" target=\"_parent\"><img src=\"https://colab.research.google.com/assets/colab-badge.svg\" alt=\"Open In Colab\"/></a>"
      ]
    },
    {
      "cell_type": "code",
      "metadata": {
        "id": "1CruOBQ8gXcA",
        "colab_type": "code",
        "colab": {}
      },
      "source": [
        "import numpy as np\n",
        "import pandas as pd\n",
        "import requests\n",
        "import bs4\n",
        "import lxml.etree as xml"
      ],
      "execution_count": 0,
      "outputs": []
    },
    {
      "cell_type": "markdown",
      "metadata": {
        "id": "5NINoLhK9qsJ",
        "colab_type": "text"
      },
      "source": [
        "The Kink is : https://colab.research.google.com/drive/15AEaOsAKWgikKY7BEOWxUlKsjjBjRD6R#scrollTo=jbCPUwblLnFV&uniqifier=4"
      ]
    },
    {
      "cell_type": "code",
      "metadata": {
        "id": "lzG4HKz0gdq-",
        "colab_type": "code",
        "colab": {}
      },
      "source": [
        "WP_URL = \"https://en.wikipedia.org/wiki/List_of_countries_by_GDP_(nominal)\"\n",
        "\n",
        "#Fake the user agent so the web page thinks we access it as a regular human user\n",
        "web_page = bs4.BeautifulSoup(requests.get(WP_URL, headers={\n",
        "    \"UserAgent\": \"Mozilla/5.0 (X11; Linux x86_64) AppleWebKit/537.36 (KHTML, like Gecko) Chrome/65.0.3325.183 Safari/537.36\"\n",
        "}).text, \"lxml\")\n",
        "\n",
        "imf_table = web_page.find_all(name=\"table\", attrs={\"class\": \"wikitable\"})[0]\n",
        "\n",
        "#Get the column names of our dataframe. \n",
        "#children` is an iterator and to index it we must first convert it to a list.\n",
        "columns = list(imf_table.tbody.children)[0]\n",
        "columns = [elem.text.strip(\"\\n \") \n",
        "           for elem in columns \n",
        "           if type(elem) != bs4.NavigableString]\n",
        "\n",
        "rows = []\n",
        "\n",
        "for i, row in enumerate(imf_table.tbody.find_all(\"tr\")):\n",
        "    # Skip the header\n",
        "    if i <= 1 or type(row) == bs4.NavigableString:\n",
        "        continue\n",
        "\n",
        "    tds = row.find_all(\"td\")\n",
        "    \n",
        "    rank         = tds[0].text\n",
        "    country_name = tds[1].text\n",
        "    gdp          = tds[2].text\n",
        "    \n",
        "    rows.append((rank, country_name, gdp))\n",
        "    \n",
        "data_frame = pd.DataFrame(rows, columns=columns)\n",
        "\n",
        "data_frame.head()"
      ],
      "execution_count": 0,
      "outputs": []
    },
    {
      "cell_type": "markdown",
      "metadata": {
        "id": "ToSN2Lvb-fin",
        "colab_type": "text"
      },
      "source": [
        "This code is working well , but the problem is the lab is blocked wekipedia , and cant retrive the data \n"
      ]
    }
  ]
}