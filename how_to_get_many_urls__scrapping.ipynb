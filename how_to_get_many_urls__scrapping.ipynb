{
  "nbformat": 4,
  "nbformat_minor": 0,
  "metadata": {
    "colab": {
      "name": "how to get many urls _scrapping.ipynb",
      "provenance": [],
      "include_colab_link": true
    },
    "kernelspec": {
      "name": "python3",
      "display_name": "Python 3"
    }
  },
  "cells": [
    {
      "cell_type": "markdown",
      "metadata": {
        "id": "view-in-github",
        "colab_type": "text"
      },
      "source": [
        "<a href=\"https://colab.research.google.com/github/basemkh94/Colab-Notbooks/blob/master/how_to_get_many_urls__scrapping.ipynb\" target=\"_parent\"><img src=\"https://colab.research.google.com/assets/colab-badge.svg\" alt=\"Open In Colab\"/></a>"
      ]
    },
    {
      "cell_type": "code",
      "metadata": {
        "id": "ckYjNmDKfwXj",
        "colab_type": "code",
        "colab": {
          "base_uri": "https://localhost:8080/",
          "height": 1000
        },
        "outputId": "99857ada-b494-4b91-800a-b025da5acaf6"
      },
      "source": [
        "from googlesearch import search\n",
        "for url in search('Plastic surgery centers in USA', tld='com', stop=100):\n",
        "    print (url)"
      ],
      "execution_count": 1,
      "outputs": [
        {
          "output_type": "stream",
          "text": [
            "https://www.plasticsurgery.org/\n",
            "https://www.plasticsurgery.org/about-asps\n",
            "https://www.plasticsurgery.org/photo-gallery\n",
            "https://www.plasticsurgery.org/cosmetic-procedures\n",
            "https://find.plasticsurgery.org/\n",
            "https://ppsd.com/media/top-5-best-plastic-surgery-centers-in-the-us/\n",
            "https://www.harpersbazaar.com/beauty/advice/a1938/the-best-beauty-surgeons-0414/\n",
            "https://www.surgery.org/consumers/find-a-plastic-surgeon/us\n",
            "https://www.marinaplasticsurgery.com/\n",
            "https://www.marinaplasticsurgery.com/plastic-surgery-los-angeles/grant-stevens-md/\n",
            "https://www.marinaplasticsurgery.com/plastic-surgery-los-angeles/staff/\n",
            "https://www.marinaplasticsurgery.com/plastic-surgery-services-los-angeles/\n",
            "https://www.marinaplasticsurgery.com/plastic-surgery-news-los-angeles/videos/\n",
            "https://my.clevelandclinic.org/cosmetic-plastic-surgery/ccf/media/Files/Plastics/the-best-you-brochure.pdf?la=en\n",
            "https://www.looknatural.com/\n",
            "https://www.usahealthsystem.com/services/plastic-and-reconstructive-surgery\n",
            "https://usaplasticsurgery.com/\n",
            "https://gcr.org/top/plastic-surgery\n",
            "https://cosmeticsurgerycenter.com/\n",
            "https://utswmed.org/locations/outpatient/plastic-surgery-resident-cosmetic-clinic/\n",
            "https://utswmed.org/conditions-treatments/plastic-surgery/\n",
            "https://www.uchealth.com/plastic-surgery/patient-info/resident-cosmetic-clinic/\n",
            "https://www.bswhealth.com/specialties/cosmetic-and-plastic-surgery/pages/default.aspx\n",
            "https://www.umassmemorialhealthcare.org/umass-memorial-medical-center-8\n",
            "https://www.usatoday.com/story/news/investigations/2019/05/01/florida-passes-strict-controls-plastic-surgery-centers/3617669002/\n",
            "https://www.sacplasticsurgery.com/\n",
            "https://www.mayoclinic.org/departments-centers/plastic-reconstructive-surgery/arizona/services/cosmetic-surgery-center\n",
            "https://www.bmc.org/plastic-surgery\n",
            "https://www.americanboardcosmeticsurgery.org/patient-resources/cosmetic-surgery-vs-plastic-surgery/\n",
            "https://www.naplesnews.com/in-depth/news/special-reports/2019/01/30/miami-doctors-plastic-surgery-empire-becomes-floridas-deadliest-clinics/2462068002/\n",
            "https://stanfordhealthcare.org/medical-clinics/stanford-cosmetic-plastic-surgery.html\n",
            "https://stanfordhealthcare.org/medical-clinics/plastic-surgery-clinic.html\n",
            "https://www.ucsfhealth.org/clinics/plastic-and-reconstructive-surgery-clinic\n",
            "https://www.gwdocs.com/specialties/plastic-surgery/\n",
            "https://www.pscwichita.com/\n",
            "https://www.plasticsurgeryjackson.com/\n",
            "https://www.tuftsmedicalcenter.org/patient-care-services/departments-and-services/plastic-surgery/overview\n",
            "https://www.virginiamason.org/plastics\n",
            "https://www.ibisworld.com/industry-trends/specialized-market-research-reports/life-sciences/health-practitioners/plastic-surgeons.html\n",
            "https://www.vanderbiltcosmeticsurgery.com/\n",
            "https://www.plasticsurgerycorner.com/\n",
            "https://www.seedoctord.com/\n",
            "https://www.upmc.com/services/plastic-surgery\n",
            "https://www.drteitelbaum.com/blog/top-5-best-breast-augmentation-surgeons-in-the-u-s/\n",
            "https://www.floridacosmeticsurgerycenter.com/\n",
            "https://mansfieldcosmeticsurgery.com/\n",
            "https://www.brighamandwomens.org/surgery/plastic-surgery\n",
            "https://nyulangone.org/locations/plastic-surgery\n",
            "https://www.jkplastic.com/en/\n",
            "https://www.drsukkar.com/about/surgery-center/\n",
            "https://www.massgeneral.org/surgery/plastic-surgery\n",
            "https://www.ncbi.nlm.nih.gov/pmc/articles/PMC4874285/\n",
            "https://www.ada.gov/adv_plastic_surgery_sa.html\n",
            "https://advancedplasticsurgerycenter.com/\n",
            "https://www.miamiherald.com/news/nation-world/world/americas/colombia/article216894500.html\n",
            "https://health.ucdavis.edu/plasticsurgery/\n",
            "https://www.linkedin.com/jobs/plastic-surgeon-jobs\n",
            "https://www.usnews.com/news/best-states/florida/articles/2019-03-24/florida-may-boost-regulation-of-cosmetic-surgery-clinics\n",
            "https://www.yelp.com/search?find_desc=korean+plastic+surgeon&find_loc=Los+Angeles%2C+CA\n",
            "https://www.utsouthwestern.edu/education/medical-school/departments/plastic-surgery/\n",
            "https://www.ofx.com/en-us/blog/best-places-to-get-plastic-surgery-overseas/\n",
            "https://uvahealth.com/services/plastic-surgery\n",
            "https://www.newyorker.com/magazine/2015/03/23/about-face\n",
            "https://www.uclahealth.org/plasticsurgery/\n",
            "https://www.mcw.edu/departments/plastic-surgery\n",
            "https://www.businessoffashion.com/articles/global-currents/where-plastic-is-fantastic-the-worlds-cosmetic-surgery-capitals\n",
            "https://rhce.amedd.army.mil/landstuhl/Services/PlasticSurgery.html\n",
            "https://www.surgery.wisc.edu/divisions/plastic-surgery/\n",
            "https://www.seton.net/reconstructive-plastic-surgery/\n",
            "https://burncenters.com/\n",
            "https://www.facs.org/education/resources/residency-search/specialties/plastic\n",
            "https://ww2.mc.vanderbilt.edu/deptplasticsurg/\n",
            "https://vpsc.net/\n",
            "http://www.kleinertkutz.com/services-plastic-surgery.html\n",
            "https://hmc.pennstatehealth.org/plastic-surgery\n",
            "https://qz.com/quartzy/1269028/plastic-surgery-in-brazil-the-dark-side-of-the-right-to-beauty/\n",
            "https://www.natural-lookingresults.com/\n",
            "https://www.hollywoodreporter.com/news/plastic-surgery-why-aftercare-facilities-714480\n",
            "https://www.dmc.org/our-services/surgical-services/cosmetic-plastic-surgery\n",
            "https://www.wpafb.af.mil/News/Article-Display/Article/1602940/plastic-surgery-clinic-now-offers-cosmetic-services/\n",
            "https://www.belairplasticandhand.com/\n",
            "https://www.cdc.gov/mmwr/volumes/67/wr/mm6712a5.htm\n",
            "https://www.chop.edu/centers-programs/division-plastic-and-reconstructive-surgery\n",
            "https://www.pennmedicine.org/departments-and-centers/department-of-surgery/surgery-divisions/plastic-surgery\n",
            "https://www.cosmeticsurgery.org/\n",
            "https://en.wikipedia.org/wiki/Plastic_surgery\n",
            "https://www.childrensmercy.org/departments-and-clinics/plastic-and-reconstructive-surgery/\n",
            "https://www.uvmhealth.org/medcenter/pages/departments-and-programs/cosmetic-plastic-surgery-program.aspx\n",
            "https://www.brown.edu/Departments/Plastic_Surgery/\n",
            "https://www.uwmedicine.org/specialties/surgery/plastic-surgery\n",
            "https://hospitals.jefferson.edu/departments-and-services/plastic-surgery.html\n",
            "https://carle.org/services/plastic-surgery-center\n",
            "https://www.kimfacialsurgery.com/\n",
            "https://childrensnational.org/departments/plastic-and-reconstructive-surgery\n",
            "https://www.foxnews.com/health/florida-cracks-down-on-dangerous-plastic-surgery-centers\n",
            "https://egoziplasticsurgerycenter.com/\n",
            "https://www.plasticsurgerynow.com/\n",
            "https://www.uchicagomedicine.org/conditions-services/plastic-reconstructive-surgery\n",
            "https://www.andersonsobelcosmetic.com/\n",
            "https://www.uhhospitals.org/services/plastic-surgery-services\n"
          ],
          "name": "stdout"
        }
      ]
    }
  ]
}